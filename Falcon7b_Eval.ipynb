{
 "cells": [
  {
   "cell_type": "code",
   "execution_count": 24,
   "id": "1aa031b6",
   "metadata": {},
   "outputs": [
    {
     "name": "stdout",
     "output_type": "stream",
     "text": [
      "Requirement already satisfied: nltk in /Users/aniketh/anaconda3/lib/python3.11/site-packages (3.8.1)\n",
      "Requirement already satisfied: evaluate in /Users/aniketh/anaconda3/lib/python3.11/site-packages (0.4.1)\n",
      "Requirement already satisfied: click in /Users/aniketh/anaconda3/lib/python3.11/site-packages (from nltk) (8.0.4)\n",
      "Requirement already satisfied: joblib in /Users/aniketh/anaconda3/lib/python3.11/site-packages (from nltk) (1.2.0)\n",
      "Requirement already satisfied: regex>=2021.8.3 in /Users/aniketh/anaconda3/lib/python3.11/site-packages (from nltk) (2022.7.9)\n",
      "Requirement already satisfied: tqdm in /Users/aniketh/anaconda3/lib/python3.11/site-packages (from nltk) (4.65.0)\n",
      "Requirement already satisfied: datasets>=2.0.0 in /Users/aniketh/anaconda3/lib/python3.11/site-packages (from evaluate) (2.12.0)\n",
      "Requirement already satisfied: numpy>=1.17 in /Users/aniketh/anaconda3/lib/python3.11/site-packages (from evaluate) (1.24.3)\n",
      "Requirement already satisfied: dill in /Users/aniketh/anaconda3/lib/python3.11/site-packages (from evaluate) (0.3.6)\n",
      "Requirement already satisfied: pandas in /Users/aniketh/anaconda3/lib/python3.11/site-packages (from evaluate) (1.5.3)\n",
      "Requirement already satisfied: requests>=2.19.0 in /Users/aniketh/anaconda3/lib/python3.11/site-packages (from evaluate) (2.31.0)\n",
      "Requirement already satisfied: xxhash in /Users/aniketh/anaconda3/lib/python3.11/site-packages (from evaluate) (2.0.2)\n",
      "Requirement already satisfied: multiprocess in /Users/aniketh/anaconda3/lib/python3.11/site-packages (from evaluate) (0.70.14)\n",
      "Requirement already satisfied: fsspec[http]>=2021.05.0 in /Users/aniketh/anaconda3/lib/python3.11/site-packages (from evaluate) (2023.10.0)\n",
      "Requirement already satisfied: huggingface-hub>=0.7.0 in /Users/aniketh/anaconda3/lib/python3.11/site-packages (from evaluate) (0.20.3)\n",
      "Requirement already satisfied: packaging in /Users/aniketh/anaconda3/lib/python3.11/site-packages (from evaluate) (23.0)\n",
      "Requirement already satisfied: responses<0.19 in /Users/aniketh/anaconda3/lib/python3.11/site-packages (from evaluate) (0.13.3)\n",
      "Requirement already satisfied: pyarrow>=8.0.0 in /Users/aniketh/anaconda3/lib/python3.11/site-packages (from datasets>=2.0.0->evaluate) (11.0.0)\n",
      "Requirement already satisfied: aiohttp in /Users/aniketh/anaconda3/lib/python3.11/site-packages (from datasets>=2.0.0->evaluate) (3.8.3)\n",
      "Requirement already satisfied: pyyaml>=5.1 in /Users/aniketh/anaconda3/lib/python3.11/site-packages (from datasets>=2.0.0->evaluate) (6.0)\n",
      "Requirement already satisfied: filelock in /Users/aniketh/anaconda3/lib/python3.11/site-packages (from huggingface-hub>=0.7.0->evaluate) (3.9.0)\n",
      "Requirement already satisfied: typing-extensions>=3.7.4.3 in /Users/aniketh/anaconda3/lib/python3.11/site-packages (from huggingface-hub>=0.7.0->evaluate) (4.7.1)\n",
      "Requirement already satisfied: charset-normalizer<4,>=2 in /Users/aniketh/anaconda3/lib/python3.11/site-packages (from requests>=2.19.0->evaluate) (2.0.4)\n",
      "Requirement already satisfied: idna<4,>=2.5 in /Users/aniketh/anaconda3/lib/python3.11/site-packages (from requests>=2.19.0->evaluate) (3.4)\n",
      "Requirement already satisfied: urllib3<3,>=1.21.1 in /Users/aniketh/anaconda3/lib/python3.11/site-packages (from requests>=2.19.0->evaluate) (1.26.16)\n",
      "Requirement already satisfied: certifi>=2017.4.17 in /Users/aniketh/anaconda3/lib/python3.11/site-packages (from requests>=2.19.0->evaluate) (2024.2.2)\n",
      "Requirement already satisfied: six in /Users/aniketh/anaconda3/lib/python3.11/site-packages (from responses<0.19->evaluate) (1.16.0)\n",
      "Requirement already satisfied: python-dateutil>=2.8.1 in /Users/aniketh/anaconda3/lib/python3.11/site-packages (from pandas->evaluate) (2.8.2)\n",
      "Requirement already satisfied: pytz>=2020.1 in /Users/aniketh/anaconda3/lib/python3.11/site-packages (from pandas->evaluate) (2022.7)\n",
      "Requirement already satisfied: attrs>=17.3.0 in /Users/aniketh/anaconda3/lib/python3.11/site-packages (from aiohttp->datasets>=2.0.0->evaluate) (22.1.0)\n",
      "Requirement already satisfied: multidict<7.0,>=4.5 in /Users/aniketh/anaconda3/lib/python3.11/site-packages (from aiohttp->datasets>=2.0.0->evaluate) (6.0.2)\n",
      "Requirement already satisfied: async-timeout<5.0,>=4.0.0a3 in /Users/aniketh/anaconda3/lib/python3.11/site-packages (from aiohttp->datasets>=2.0.0->evaluate) (4.0.2)\n",
      "Requirement already satisfied: yarl<2.0,>=1.0 in /Users/aniketh/anaconda3/lib/python3.11/site-packages (from aiohttp->datasets>=2.0.0->evaluate) (1.8.1)\n",
      "Requirement already satisfied: frozenlist>=1.1.1 in /Users/aniketh/anaconda3/lib/python3.11/site-packages (from aiohttp->datasets>=2.0.0->evaluate) (1.3.3)\n",
      "Requirement already satisfied: aiosignal>=1.1.2 in /Users/aniketh/anaconda3/lib/python3.11/site-packages (from aiohttp->datasets>=2.0.0->evaluate) (1.2.0)\n",
      "Requirement already satisfied: rouge-score in /Users/aniketh/anaconda3/lib/python3.11/site-packages (0.1.2)\n",
      "Requirement already satisfied: absl-py in /Users/aniketh/anaconda3/lib/python3.11/site-packages (from rouge-score) (2.1.0)\n",
      "Requirement already satisfied: nltk in /Users/aniketh/anaconda3/lib/python3.11/site-packages (from rouge-score) (3.8.1)\n",
      "Requirement already satisfied: numpy in /Users/aniketh/anaconda3/lib/python3.11/site-packages (from rouge-score) (1.24.3)\n",
      "Requirement already satisfied: six>=1.14.0 in /Users/aniketh/anaconda3/lib/python3.11/site-packages (from rouge-score) (1.16.0)\n",
      "Requirement already satisfied: click in /Users/aniketh/anaconda3/lib/python3.11/site-packages (from nltk->rouge-score) (8.0.4)\n",
      "Requirement already satisfied: joblib in /Users/aniketh/anaconda3/lib/python3.11/site-packages (from nltk->rouge-score) (1.2.0)\n",
      "Requirement already satisfied: regex>=2021.8.3 in /Users/aniketh/anaconda3/lib/python3.11/site-packages (from nltk->rouge-score) (2022.7.9)\n",
      "Requirement already satisfied: tqdm in /Users/aniketh/anaconda3/lib/python3.11/site-packages (from nltk->rouge-score) (4.65.0)\n",
      "Requirement already satisfied: absl-py in /Users/aniketh/anaconda3/lib/python3.11/site-packages (2.1.0)\n"
     ]
    }
   ],
   "source": [
    "!pip install nltk evaluate\n",
    "!pip install rouge-score\n",
    "!pip install absl-py\n"
   ]
  },
  {
   "cell_type": "code",
   "execution_count": 25,
   "id": "f02b83af",
   "metadata": {},
   "outputs": [],
   "source": [
    "import pandas as pd\n",
    "import numpy as np\n",
    "from nltk.stem import PorterStemmer\n",
    "from nltk.translate.bleu_score import sentence_bleu\n",
    "from nltk.tokenize import word_tokenize\n",
    "import evaluate\n",
    "\n"
   ]
  },
  {
   "cell_type": "code",
   "execution_count": 26,
   "id": "6b0cb850",
   "metadata": {},
   "outputs": [
    {
     "name": "stderr",
     "output_type": "stream",
     "text": [
      "[nltk_data] Downloading package wordnet to /Users/aniketh/nltk_data...\n",
      "[nltk_data]   Package wordnet is already up-to-date!\n",
      "[nltk_data] Downloading package punkt to /Users/aniketh/nltk_data...\n",
      "[nltk_data]   Package punkt is already up-to-date!\n"
     ]
    },
    {
     "data": {
      "text/plain": [
       "True"
      ]
     },
     "execution_count": 26,
     "metadata": {},
     "output_type": "execute_result"
    }
   ],
   "source": [
    "import nltk\n",
    "nltk.download('wordnet')\n",
    "nltk.download('punkt')  # For tokenization\n"
   ]
  },
  {
   "cell_type": "code",
   "execution_count": 30,
   "id": "15b4fccd",
   "metadata": {},
   "outputs": [
    {
     "name": "stderr",
     "output_type": "stream",
     "text": [
      "/Users/aniketh/anaconda3/lib/python3.11/site-packages/nltk/translate/bleu_score.py:552: UserWarning: \n",
      "The hypothesis contains 0 counts of 2-gram overlaps.\n",
      "Therefore the BLEU score evaluates to 0, independently of\n",
      "how many N-gram overlaps of lower order it contains.\n",
      "Consider using lower n-gram order or use SmoothingFunction()\n",
      "  warnings.warn(_msg)\n",
      "/Users/aniketh/anaconda3/lib/python3.11/site-packages/nltk/translate/bleu_score.py:552: UserWarning: \n",
      "The hypothesis contains 0 counts of 3-gram overlaps.\n",
      "Therefore the BLEU score evaluates to 0, independently of\n",
      "how many N-gram overlaps of lower order it contains.\n",
      "Consider using lower n-gram order or use SmoothingFunction()\n",
      "  warnings.warn(_msg)\n",
      "/Users/aniketh/anaconda3/lib/python3.11/site-packages/nltk/translate/bleu_score.py:552: UserWarning: \n",
      "The hypothesis contains 0 counts of 4-gram overlaps.\n",
      "Therefore the BLEU score evaluates to 0, independently of\n",
      "how many N-gram overlaps of lower order it contains.\n",
      "Consider using lower n-gram order or use SmoothingFunction()\n",
      "  warnings.warn(_msg)\n"
     ]
    },
    {
     "name": "stdout",
     "output_type": "stream",
     "text": [
      "Results:\n",
      "   Unnamed: 0                                          Generated  \\\n",
      "0           0  \"This is just the start we needed,\" Dancer sai...   \n",
      "1           1   opposes, planning, are, supported, accuses, v...   \n",
      "2           2   introduced, rein, profits, investment, smelti...   \n",
      "3           3  2005, was, used, captured, access, scenes, att...   \n",
      "4           4   said, said, was, ruling, called, was, said, c...   \n",
      "\n",
      "                               Expected  \\\n",
      "0                     win, title, count   \n",
      "1                               accuses   \n",
      "2                       introduce, rein   \n",
      "3  made, used, capture, attacks, murder   \n",
      "4                                  said   \n",
      "\n",
      "                                    Generated_tokens  \\\n",
      "0  [``, this, is, just, the, start, we, needed, ,...   \n",
      "1  [opposes, ,, planning, ,, are, ,, supported, ,...   \n",
      "2  [introduced, ,, rein, ,, profit, ,, investment...   \n",
      "3  [2005, ,, wa, ,, used, ,, captured, ,, access,...   \n",
      "4  [said, ,, said, ,, wa, ,, ruling, ,, called, ,...   \n",
      "\n",
      "                                     Expected_tokens           BLEU  \n",
      "0                          [win, ,, title, ,, count]  9.721610e-232  \n",
      "1                                          [accuses]  5.664510e-232  \n",
      "2                               [introduce, ,, rein]  2.510184e-155  \n",
      "3  [made, ,, used, ,, capture, ,, attack, ,, murder]   4.297244e-02  \n",
      "4                                             [said]  5.459500e-232  \n",
      "Average BLEU score: 0.018939611298556574\n",
      "ROUGE Scores: {'rouge1': 0.09761283927722406, 'rouge2': 0.0341456843581111, 'rougeL': 0.09091759866085826, 'rougeLsum': 0.0910955528022458}\n"
     ]
    }
   ],
   "source": [
    "results_df = pd.read_csv('results_1.csv')\n",
    "\n",
    "# Initialize the lemmatizer\n",
    "lemmatizer = WordNetLemmatizer()\n",
    "\n",
    "# Function to preprocess text by lemmatizing each word\n",
    "def preprocess(text):\n",
    "    words = word_tokenize(text.lower())\n",
    "    lemmatized_words = [lemmatizer.lemmatize(word) for word in words]\n",
    "    return lemmatized_words\n",
    "\n",
    "results_df['Generated_tokens'] = results_df['Generated'].apply(preprocess)\n",
    "results_df['Expected_tokens'] = results_df['Expected'].apply(preprocess)\n",
    "\n",
    "# Calculate BLEU scores\n",
    "results_df['BLEU'] = results_df.apply(lambda row: sentence_bleu([row['Expected_tokens']], row['Generated_tokens'], weights=(0.25, 0.25, 0.25, 0.25)) if row['Expected_tokens'] and row['Generated_tokens'] else 0, axis=1)\n",
    "average_bleu = results_df['BLEU'].mean()\n",
    "\n",
    "# Calculate ROUGE scores \n",
    "rouge_evaluator = evaluate.load('rouge')\n",
    "rouge_results = rouge_evaluator.compute(predictions=results_df['Generated'], references=results_df['Expected'], use_stemmer=False)\n",
    "\n",
    "# Output the results\n",
    "print(\"Results:\")\n",
    "print(results_df.head())\n",
    "print(f\"Average BLEU score: {average_bleu}\")\n",
    "print(\"ROUGE Scores:\", rouge_results)\n",
    "\n",
    "#results_df.to_csv('modified_results.csv', index=False)"
   ]
  },
  {
   "cell_type": "code",
   "execution_count": 17,
   "id": "0e6deec2",
   "metadata": {},
   "outputs": [
    {
     "name": "stdout",
     "output_type": "stream",
     "text": [
      "Accuracy: 0.78\n"
     ]
    }
   ],
   "source": [
    "#Accuracy Method 1: checks if all the expected keywords are present in the generated text and calculates \n",
    "#an accuracy score based on this.\n",
    "\n",
    "def keywords_present(generated, expected):\n",
    "    expected_keywords = {word.strip().lower() for word in expected.split(',')}\n",
    "    generated_text = generated.lower()\n",
    "    return all(keyword in generated_text for keyword in expected_keywords)\n",
    "\n",
    "results_df['Contains_All_Keywords'] = results_df.apply(lambda row: all_keywords_present(row['Generated'], row['Expected']), axis=1)\n",
    "\n",
    "accuracy = results_df['Contains_All_Keywords'].mean()\n",
    "\n",
    "print(f\"Accuracy: {accuracy:.2f}\")\n"
   ]
  },
  {
   "cell_type": "code",
   "execution_count": 19,
   "id": "02e8070c",
   "metadata": {},
   "outputs": [
    {
     "name": "stdout",
     "output_type": "stream",
     "text": [
      "0.8822950761975152\n"
     ]
    }
   ],
   "source": [
    "#Accuracy Method 2: calculates the proportion of expected keywords found in the generated text for each pair of \n",
    "#expected and generated texts and then computes the average of these proportions.\n",
    "\n",
    "results_df = pd.read_csv('results_1.csv')\n",
    "\n",
    "accuracies = []\n",
    "\n",
    "for (generated, expected) in zip(results_df[\"Generated\"], results_df[\"Expected\"]):\n",
    "  expected_list = expected.lower().split(\",\")\n",
    "  accuracies.append(sum(word in generated.lower() for word in expected_list) / len(expected_list))\n",
    "\n",
    "print(np.mean(accuracies))"
   ]
  },
  {
   "cell_type": "code",
   "execution_count": null,
   "id": "03654dca",
   "metadata": {},
   "outputs": [],
   "source": []
  }
 ],
 "metadata": {
  "kernelspec": {
   "display_name": "Python 3 (ipykernel)",
   "language": "python",
   "name": "python3"
  },
  "language_info": {
   "codemirror_mode": {
    "name": "ipython",
    "version": 3
   },
   "file_extension": ".py",
   "mimetype": "text/x-python",
   "name": "python",
   "nbconvert_exporter": "python",
   "pygments_lexer": "ipython3",
   "version": "3.11.4"
  }
 },
 "nbformat": 4,
 "nbformat_minor": 5
}
